{
 "cells": [
  {
   "cell_type": "code",
   "execution_count": 1,
   "metadata": {},
   "outputs": [
    {
     "name": "stdout",
     "output_type": "stream",
     "text": [
      "Requirement already satisfied: transformers in c:\\users\\padma\\appdata\\local\\programs\\python\\python312\\lib\\site-packages (4.49.0)"
     ]
    },
    {
     "name": "stderr",
     "output_type": "stream",
     "text": [
      "WARNING: Ignoring invalid distribution ~ip (C:\\Users\\padma\\AppData\\Local\\Programs\\Python\\Python312\\Lib\\site-packages)\n",
      "WARNING: Ignoring invalid distribution ~ip (C:\\Users\\padma\\AppData\\Local\\Programs\\Python\\Python312\\Lib\\site-packages)\n",
      "WARNING: Ignoring invalid distribution ~ip (C:\\Users\\padma\\AppData\\Local\\Programs\\Python\\Python312\\Lib\\site-packages)\n"
     ]
    },
    {
     "name": "stdout",
     "output_type": "stream",
     "text": [
      "\n",
      "Requirement already satisfied: filelock in c:\\users\\padma\\appdata\\local\\programs\\python\\python312\\lib\\site-packages (from transformers) (3.17.0)\n",
      "Requirement already satisfied: huggingface-hub<1.0,>=0.26.0 in c:\\users\\padma\\appdata\\local\\programs\\python\\python312\\lib\\site-packages (from transformers) (0.29.1)\n",
      "Requirement already satisfied: numpy>=1.17 in c:\\users\\padma\\appdata\\local\\programs\\python\\python312\\lib\\site-packages (from transformers) (1.26.4)\n",
      "Requirement already satisfied: packaging>=20.0 in c:\\users\\padma\\appdata\\local\\programs\\python\\python312\\lib\\site-packages (from transformers) (24.2)\n",
      "Requirement already satisfied: pyyaml>=5.1 in c:\\users\\padma\\appdata\\local\\programs\\python\\python312\\lib\\site-packages (from transformers) (6.0.2)\n",
      "Requirement already satisfied: regex!=2019.12.17 in c:\\users\\padma\\appdata\\local\\programs\\python\\python312\\lib\\site-packages (from transformers) (2024.11.6)\n",
      "Requirement already satisfied: requests in c:\\users\\padma\\appdata\\local\\programs\\python\\python312\\lib\\site-packages (from transformers) (2.32.3)\n",
      "Requirement already satisfied: tokenizers<0.22,>=0.21 in c:\\users\\padma\\appdata\\local\\programs\\python\\python312\\lib\\site-packages (from transformers) (0.21.0)\n",
      "Requirement already satisfied: safetensors>=0.4.1 in c:\\users\\padma\\appdata\\local\\programs\\python\\python312\\lib\\site-packages (from transformers) (0.5.3)\n",
      "Requirement already satisfied: tqdm>=4.27 in c:\\users\\padma\\appdata\\local\\programs\\python\\python312\\lib\\site-packages (from transformers) (4.67.0)\n",
      "Requirement already satisfied: fsspec>=2023.5.0 in c:\\users\\padma\\appdata\\local\\programs\\python\\python312\\lib\\site-packages (from huggingface-hub<1.0,>=0.26.0->transformers) (2024.12.0)\n",
      "Requirement already satisfied: typing-extensions>=3.7.4.3 in c:\\users\\padma\\appdata\\local\\programs\\python\\python312\\lib\\site-packages (from huggingface-hub<1.0,>=0.26.0->transformers) (4.12.2)\n",
      "Requirement already satisfied: colorama in c:\\users\\padma\\appdata\\local\\programs\\python\\python312\\lib\\site-packages (from tqdm>=4.27->transformers) (0.4.6)\n",
      "Requirement already satisfied: charset-normalizer<4,>=2 in c:\\users\\padma\\appdata\\local\\programs\\python\\python312\\lib\\site-packages (from requests->transformers) (3.4.0)\n",
      "Requirement already satisfied: idna<4,>=2.5 in c:\\users\\padma\\appdata\\local\\programs\\python\\python312\\lib\\site-packages (from requests->transformers) (3.10)\n",
      "Requirement already satisfied: urllib3<3,>=1.21.1 in c:\\users\\padma\\appdata\\local\\programs\\python\\python312\\lib\\site-packages (from requests->transformers) (2.2.3)\n",
      "Requirement already satisfied: certifi>=2017.4.17 in c:\\users\\padma\\appdata\\local\\programs\\python\\python312\\lib\\site-packages (from requests->transformers) (2024.8.30)\n"
     ]
    }
   ],
   "source": [
    "!pip install transformers"
   ]
  },
  {
   "cell_type": "code",
   "execution_count": 2,
   "metadata": {},
   "outputs": [
    {
     "name": "stderr",
     "output_type": "stream",
     "text": [
      "c:\\Users\\padma\\AppData\\Local\\Programs\\Python\\Python312\\Lib\\site-packages\\tqdm\\auto.py:21: TqdmWarning: IProgress not found. Please update jupyter and ipywidgets. See https://ipywidgets.readthedocs.io/en/stable/user_install.html\n",
      "  from .autonotebook import tqdm as notebook_tqdm\n"
     ]
    }
   ],
   "source": [
    "from transformers import GPT2LMHeadModel, GPT2Tokenizer\n",
    "     "
   ]
  },
  {
   "cell_type": "code",
   "execution_count": 3,
   "metadata": {},
   "outputs": [],
   "source": [
    "tokenizer = GPT2Tokenizer.from_pretrained(\"gpt2\")\n",
    "model = GPT2LMHeadModel.from_pretrained(\"gpt2\")"
   ]
  },
  {
   "cell_type": "code",
   "execution_count": 4,
   "metadata": {},
   "outputs": [],
   "source": [
    "text = \"What is Natural Language Processing?\"\n",
    "encoded_input = tokenizer.encode(text, return_tensors='pt')"
   ]
  },
  {
   "cell_type": "code",
   "execution_count": 5,
   "metadata": {},
   "outputs": [
    {
     "data": {
      "text/plain": [
       "tensor([[ 2061,   318, 12068, 15417, 28403,    30]])"
      ]
     },
     "execution_count": 5,
     "metadata": {},
     "output_type": "execute_result"
    }
   ],
   "source": [
    "encoded_input\n",
    "     "
   ]
  },
  {
   "cell_type": "code",
   "execution_count": 6,
   "metadata": {},
   "outputs": [
    {
     "data": {
      "text/plain": [
       "' Natural'"
      ]
     },
     "execution_count": 6,
     "metadata": {},
     "output_type": "execute_result"
    }
   ],
   "source": [
    "tokenizer.decode(encoded_input[0][2])"
   ]
  },
  {
   "cell_type": "code",
   "execution_count": 7,
   "metadata": {},
   "outputs": [
    {
     "name": "stderr",
     "output_type": "stream",
     "text": [
      "The attention mask and the pad token id were not set. As a consequence, you may observe unexpected behavior. Please pass your input's `attention_mask` to obtain reliable results.\n",
      "Setting `pad_token_id` to `eos_token_id`:50256 for open-end generation.\n",
      "The attention mask is not set and cannot be inferred from input because pad token is same as eos token. As a consequence, you may observe unexpected behavior. Please pass your input's `attention_mask` to obtain reliable results.\n"
     ]
    }
   ],
   "source": [
    "output = model.generate(encoded_input, max_length=500,num_beams=5,no_repeat_ngram_size=2,early_stopping=True)"
   ]
  },
  {
   "cell_type": "code",
   "execution_count": 8,
   "metadata": {},
   "outputs": [
    {
     "data": {
      "text/plain": [
       "tensor([[ 2061,   318, 12068, 15417, 28403,    30,   198,   198, 35364,  3303,\n",
       "          7587,   357,    45, 19930,     8,   318,   262,  1429,   416,   543,\n",
       "           356,  2193,   649,  2456,    11, 20144,    11, 13439,    11,   290,\n",
       "         13439,    13,   632,   318,   257,  1429,   287,   543,   674,  3632,\n",
       "         16795,   912,   777,  2456,   290, 20144,   287,   257,   835,   326,\n",
       "          3578,   514,   284,  1833,   606,    13,   399, 19930,   318,   635,\n",
       "          1900,   355,   366, 16129,  7587,   553,   290,   340,   318,   530,\n",
       "           286,   262,   749,  1593,  7612,   286,  4673,   257,   649,  3303,\n",
       "            13,   554,   428,  2708,    11,   356,   481,   804,   379,   703,\n",
       "           356,   460,  2193,   284,   779,  3288,  3303,   284, 10996,   351,\n",
       "           584,   661,    13,   775,   481,   635,  2112,   703,   284,  2193,\n",
       "           257,  3303,   290,   703,   340,   460,   307,  5625,   284,   534,\n",
       "           898,  1204,    13,   628,   198,  2437,   284, 14365,   257, 15417,\n",
       "           290,  1374,   284, 27967,   340,   284,  3406, 11744,  5155,   198,\n",
       "            13,   764,   764,   290,  1867,   921,  1680,  2141,   284, 20580,\n",
       "          3406, 15417, 20389,    13,   770,  2708,   481,   905,   345,   703,\n",
       "           345,   460,  2987,   534,  3303,  4678,   416, 11524,   606,   284,\n",
       "           262,   995,  1088,   345,    13,   921,   481,  2193,   546,   262,\n",
       "          1180,  3858,   286,  8950,   326,   389,  1695,   287,  1180,  3354,\n",
       "           286,   534,  1204,    11,   355,   880,   355,   703,   484, 13238,\n",
       "           422,   530,  1194,   287,  2846,   286,   511, 23491,    11, 25818,\n",
       "            11, 15582,    11, 23491,  3173,    11,  3503,    13,   383,  4007,\n",
       "           286,   428,  2665,   318,   284,  1577,   345,   257,  4096,  4547,\n",
       "           286,   703,  8950,   670,   290,   644,   484,   460,   466,   284,\n",
       "          1037,   345,  2193,   606,  1365,    13,  1002,   345,   423,   597,\n",
       "          2683,   393,  3651,    11,  3387,  1254,  1479,   284,  2666,   606,\n",
       "           287,   262,  3651,  2665,  2174,    13,   314,   481,  1949,   284,\n",
       "          3280,   606,   355,  2952,   355,  1744,    11,   475,  3387,   466,\n",
       "           407, 22898,   284,  3151,   503,   284,   502,   611,   345,   389,\n",
       "          4609,   287,  4673,   517,   546,   428,  7243,    13, 50256]])"
      ]
     },
     "execution_count": 8,
     "metadata": {},
     "output_type": "execute_result"
    }
   ],
   "source": [
    "output"
   ]
  },
  {
   "cell_type": "code",
   "execution_count": 9,
   "metadata": {},
   "outputs": [
    {
     "data": {
      "text/plain": [
       "'What is Natural Language Processing?\\n\\nNatural language processing (NLP) is the process by which we learn new words, phrases, sentences, and sentences. It is a process in which our brain interprets these words and phrases in a way that allows us to understand them. NLP is also known as \"language processing,\" and it is one of the most important aspects of learning a new language. In this article, we will look at how we can learn to use natural language to communicate with other people. We will also discuss how to learn a language and how it can be applied to your own life.\\n\\n\\nHow to Learn a Language and How to Apply it to Your Own Life\\n. . . and What You Can Do to Improve Your Language Skills. This article will show you how you can improve your language skills by applying them to the world around you. You will learn about the different types of languages that are available in different parts of your life, as well as how they differ from one another in terms of their grammar, vocabulary, syntax, grammar rules, etc. The purpose of this section is to give you a basic understanding of how languages work and what they can do to help you learn them better. If you have any questions or comments, please feel free to leave them in the comments section below. I will try to answer them as quickly as possible, but please do not hesitate to reach out to me if you are interested in learning more about this topic.'"
      ]
     },
     "execution_count": 9,
     "metadata": {},
     "output_type": "execute_result"
    }
   ],
   "source": [
    "\n",
    "tokenizer.decode(output[0], skip_special_tokens=True)"
   ]
  },
  {
   "cell_type": "code",
   "execution_count": 10,
   "metadata": {},
   "outputs": [],
   "source": [
    "text = \"What is Machine Learning?\"\n",
    "encoded_input = tokenizer.encode(text, return_tensors='pt')"
   ]
  },
  {
   "cell_type": "code",
   "execution_count": 12,
   "metadata": {},
   "outputs": [
    {
     "data": {
      "text/plain": [
       "tensor([[ 2061,   318, 10850, 18252,    30]])"
      ]
     },
     "execution_count": 12,
     "metadata": {},
     "output_type": "execute_result"
    }
   ],
   "source": [
    "encoded_input"
   ]
  },
  {
   "cell_type": "code",
   "execution_count": 13,
   "metadata": {},
   "outputs": [
    {
     "data": {
      "text/plain": [
       "' Machine'"
      ]
     },
     "execution_count": 13,
     "metadata": {},
     "output_type": "execute_result"
    }
   ],
   "source": [
    "tokenizer.decode(encoded_input[0][2])"
   ]
  },
  {
   "cell_type": "code",
   "execution_count": 14,
   "metadata": {},
   "outputs": [
    {
     "name": "stderr",
     "output_type": "stream",
     "text": [
      "The attention mask and the pad token id were not set. As a consequence, you may observe unexpected behavior. Please pass your input's `attention_mask` to obtain reliable results.\n",
      "Setting `pad_token_id` to `eos_token_id`:50256 for open-end generation.\n"
     ]
    }
   ],
   "source": [
    "output = model.generate(encoded_input, max_length=500,num_beams=5,no_repeat_ngram_size=2,early_stopping=True)"
   ]
  },
  {
   "cell_type": "code",
   "execution_count": 15,
   "metadata": {},
   "outputs": [
    {
     "data": {
      "text/plain": [
       "tensor([[ 2061,   318, 10850, 18252,    30,   198,   198, 37573,  4673,   318,\n",
       "           262,  1429,   416,   543,   257,  3644, 22974,   284,  1620,   257,\n",
       "          4876,    13,   632,   318,   257,  1429,   326,   460,   307,  1760,\n",
       "           287,   257,  1271,   286,  1180,  2842,    13,   383,   749,  2219,\n",
       "           835,   284,  2193,   257,   649,  4876,   318,   416,  1262,   257,\n",
       "          4572,  4673, 11862,    13, 10850,  4673, 16113,   389, 16113,   326,\n",
       "           389,  1498,   284,  4331,   262,  4069,   286,   257,  1813,   900,\n",
       "           286,  1366,    13,  1114,  1672,    11,   611,   345,   765,   284,\n",
       "           760,   703,   867,   661,   389,  4964,   257,  3807,    11,   345,\n",
       "           460,   779,   257, 17019,  3127,    13,  2102,    11,   612,   389,\n",
       "           867,  1180,  3858,   286, 17019,  7686,    11,   290,   484,   477,\n",
       "           423,   511, 10360,   290,   762,    13,   554,   428,  2708,    11,\n",
       "           356,   481,   804,   379,   617,   286,   262,   749,  8811,   973,\n",
       "         17019, 31720,    13,   775,   481,   635,  2112,   703,   484,   670,\n",
       "           290,   703,   284,   779,   606,   284,  2987,   534,  4673,    13,\n",
       "           770,  2708,   481,   307,  9086,   656,   734,  3354,    13,  3274,\n",
       "            11,   257,  4506,  9793,   284,   262,  7243,    13,  5498,    11,\n",
       "           281, 16700,   286,   703,   262, 17019,  2010,  2499,    13, 10467,\n",
       "            11,   703,   340,  2499,   290,   644,   340,   460,   466,    13,\n",
       "          9461,    11,   617,  9040,   290, 15910,   284,  1037,   345,   651,\n",
       "          2067,   351,   262,  4673,  1429,    13,  1002,   345,   423,   597,\n",
       "          2683,   393,  3651,    11,  3387,  1254,  1479,   284,  2666,   606,\n",
       "           287,   262,  3651,  2665,  2174,    13, 50256]])"
      ]
     },
     "execution_count": 15,
     "metadata": {},
     "output_type": "execute_result"
    }
   ],
   "source": [
    "output"
   ]
  },
  {
   "cell_type": "code",
   "execution_count": 16,
   "metadata": {},
   "outputs": [
    {
     "data": {
      "text/plain": [
       "'What is Machine Learning?\\n\\nMachine learning is the process by which a computer learns to perform a task. It is a process that can be done in a number of different ways. The most common way to learn a new task is by using a machine learning algorithm. Machine learning algorithms are algorithms that are able to predict the behavior of a given set of data. For example, if you want to know how many people are watching a movie, you can use a neural network. However, there are many different types of neural networks, and they all have their pros and cons. In this article, we will look at some of the most commonly used neural nets. We will also discuss how they work and how to use them to improve your learning. This article will be divided into two parts. First, a brief introduction to the topic. Second, an overview of how the neural net works. Third, how it works and what it can do. Finally, some tips and tricks to help you get started with the learning process. If you have any questions or comments, please feel free to leave them in the comments section below.'"
      ]
     },
     "execution_count": 16,
     "metadata": {},
     "output_type": "execute_result"
    }
   ],
   "source": [
    "tokenizer.decode(output[0], skip_special_tokens=True)"
   ]
  }
 ],
 "metadata": {
  "kernelspec": {
   "display_name": "Python 3",
   "language": "python",
   "name": "python3"
  },
  "language_info": {
   "codemirror_mode": {
    "name": "ipython",
    "version": 3
   },
   "file_extension": ".py",
   "mimetype": "text/x-python",
   "name": "python",
   "nbconvert_exporter": "python",
   "pygments_lexer": "ipython3",
   "version": "3.12.3"
  }
 },
 "nbformat": 4,
 "nbformat_minor": 2
}
